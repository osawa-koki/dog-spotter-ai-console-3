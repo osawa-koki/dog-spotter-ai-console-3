{
  "cells": [
    {
      "cell_type": "code",
      "execution_count": null,
      "metadata": {
        "id": "GrLwJfsk1uNk"
      },
      "outputs": [],
      "source": [
        "print(\"Hello World!!!\")\n",
        "!python --version"
      ]
    },
    {
      "cell_type": "code",
      "execution_count": null,
      "metadata": {
        "id": "DQ9jDFbBhlsu"
      },
      "outputs": [],
      "source": [
        "klasses = [\"toy_poodle\", \"border_collie\", \"pomeranian\"]\n",
        "num_klasses = len(klasses)\n",
        "image_size = 50\n",
        "num_testdata = 100"
      ]
    },
    {
      "cell_type": "code",
      "execution_count": null,
      "metadata": {
        "id": "WPjxshhNbmTl"
      },
      "outputs": [],
      "source": [
        "import os, glob\n",
        "\n",
        "from PIL import Image\n",
        "from sklearn.model_selection import train_test_split\n",
        "import numpy as np\n",
        "\n",
        "X = []\n",
        "Y = []\n",
        "\n",
        "for index, klass in enumerate(klasses):\n",
        "    files = glob.glob(f\"./{klass}/*.jpg\")\n",
        "    for i, file in enumerate(files):\n",
        "        if i >= 200:\n",
        "            break\n",
        "        image = Image.open(file)\n",
        "        image = image.convert(\"RGB\")\n",
        "        image = image.resize((image_size, image_size))\n",
        "        data = np.asarray(image)\n",
        "\n",
        "        for angle in range(-20, 20, 5):\n",
        "            img_r = image.rotate(angle)\n",
        "            data = np.asarray(img_r)\n",
        "            X.append(data)\n",
        "            Y.append(index)\n",
        "\n",
        "            img_trans = img_r.transpose(Image.FLIP_LEFT_RIGHT)\n",
        "            data = np.asarray(img_trans)\n",
        "            X.append(data)\n",
        "            Y.append(index)\n",
        "\n",
        "X = np.array(X)\n",
        "Y = np.array(Y)\n",
        "\n",
        "X_train, X_test, Y_train, Y_test = train_test_split(X, Y)\n",
        "\n",
        "np.savez(\"./dogs.npz\", X_train=X_train, X_test=X_test, Y_train=Y_train, Y_test=Y_test)"
      ]
    },
    {
      "cell_type": "code",
      "execution_count": null,
      "metadata": {
        "id": "jWC4Vfx6d8XV"
      },
      "outputs": [],
      "source": [
        "from keras.models import Sequential\n",
        "from keras.layers import Dense, Dropout, Activation, Flatten\n",
        "from keras.layers import Conv2D, MaxPooling2D\n",
        "from tensorflow.keras.utils import to_categorical\n",
        "import numpy as np\n",
        "from sklearn import model_selection\n",
        "from tensorflow.keras.optimizers import RMSprop\n",
        "\n",
        "\n",
        "def main():\n",
        "    data = np.load(\"./dogs.npz\")\n",
        "    X_train = data[\"X_train\"]\n",
        "    X_test = data[\"X_test\"]\n",
        "    Y_train = data[\"Y_train\"]\n",
        "    Y_test = data[\"Y_test\"]\n",
        "\n",
        "    X_train = X_train.astype(\"float\") / 256\n",
        "    X_test = X_test.astype(\"float\") / 256\n",
        "    Y_train = to_categorical(Y_train, num_klasses)\n",
        "    Y_test = to_categorical(Y_test, num_klasses)\n",
        "\n",
        "    model = model_train(X_train, Y_train)\n",
        "    model_eval(model, X_test, Y_test)\n",
        "\n",
        "\n",
        "def model_train(X_train, Y_train):\n",
        "    model = Sequential()\n",
        "    model.add(Conv2D(32, (3, 3), padding=\"same\", input_shape=X_train.shape[1:]))\n",
        "    model.add(Activation(\"relu\"))\n",
        "    model.add(Conv2D(32, (3, 3)))\n",
        "    model.add(Activation(\"relu\"))\n",
        "    model.add(MaxPooling2D(pool_size=(2, 2)))\n",
        "    model.add(Dropout(0.25))\n",
        "\n",
        "    model.add(Conv2D(64, (3, 3), padding=\"same\"))\n",
        "    model.add(Activation(\"relu\"))\n",
        "    model.add(Conv2D(64, (3, 3)))\n",
        "    model.add(Activation(\"relu\"))\n",
        "    model.add(MaxPooling2D(pool_size=(2, 2)))\n",
        "    model.add(Dropout(0.25))\n",
        "\n",
        "    model.add(Flatten())\n",
        "    model.add(Dense(512))\n",
        "    model.add(Activation(\"relu\"))\n",
        "    model.add(Dropout(0.5))\n",
        "    model.add(Dense(3))\n",
        "    model.add(Activation(\"softmax\"))\n",
        "\n",
        "    opt = RMSprop(learning_rate=0.0001, decay=1e-6)\n",
        "\n",
        "    model.compile(loss=\"categorical_crossentropy\", optimizer=opt, metrics=[\"accuracy\"])\n",
        "    model.fit(X_train, Y_train, batch_size=32, epochs=100)\n",
        "\n",
        "    model.save(\"./dogs.h5\")\n",
        "\n",
        "    return model\n",
        "\n",
        "\n",
        "def model_eval(model, X_test, Y_test):\n",
        "    scores = model.evaluate(X_test, Y_test, verbose=1)\n",
        "    print(\"Test Loss: \", scores[0])\n",
        "    print(\"Test Accuracy: \", scores[1])\n",
        "\n",
        "\n",
        "if __name__ == \"__main__\":\n",
        "    main()"
      ]
    },
    {
      "cell_type": "code",
      "execution_count": null,
      "metadata": {
        "id": "2NjUzaGAetcu"
      },
      "outputs": [],
      "source": [
        "from keras.models import load_model\n",
        "import sys\n",
        "import numpy as np\n",
        "from PIL import Image\n",
        "\n",
        "def main():\n",
        "    image = Image.open('image.jpeg')\n",
        "    image = image.convert('RGB')\n",
        "    image = image.resize((image_size, image_size))\n",
        "    data = np.asarray(image) / 255\n",
        "    X = []\n",
        "    X.append(data)\n",
        "    X = np.array(X)\n",
        "    model = load_model('./dogs.h5')\n",
        "\n",
        "    result = model.predict([X])[0]\n",
        "    predicted = result.argmax()\n",
        "    print({ \"class\": klasses[predicted], \"probability\": result[predicted] })\n",
        "\n",
        "if __name__ == \"__main__\":\n",
        "    main()"
      ]
    }
  ],
  "metadata": {
    "accelerator": "GPU",
    "colab": {
      "gpuType": "T4",
      "machine_shape": "hm",
      "provenance": []
    },
    "kernelspec": {
      "display_name": "Python 3",
      "name": "python3"
    },
    "language_info": {
      "name": "python"
    }
  },
  "nbformat": 4,
  "nbformat_minor": 0
}
